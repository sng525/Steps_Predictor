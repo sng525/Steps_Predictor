{
 "cells": [
  {
   "cell_type": "code",
   "execution_count": 2,
   "metadata": {},
   "outputs": [],
   "source": [
    "import pandas as pd\n",
    "import numpy as np\n",
    "from sklearn.linear_model import LinearRegression\n",
    "from matplotlib import pyplot as plt\n",
    "from sklearn.model_selection import train_test_split\n",
    "from sklearn.metrics import mean_absolute_error\n",
    "from sklearn.metrics import r2_score\n",
    "import seaborn as sns\n",
    "from sklearn.feature_selection import SelectKBest, f_regression\n",
    "import pickle"
   ]
  },
  {
   "cell_type": "code",
   "execution_count": 3,
   "metadata": {},
   "outputs": [],
   "source": [
    "data = pd.read_csv(\"steps_count.csv\")\n",
    "\n",
    "types = [\n",
    "    \"HKQuantityTypeIdentifierBasalEnergyBurned\", \n",
    "    \"HKQuantityTypeIdentifierActiveEnergyBurned\",\n",
    "    \"HKQuantityTypeIdentifierDistanceWalkingRunning\", \n",
    "    \"HKQuantityTypeIdentifierAppleStandTime\", \n",
    "    \"HKQuantityTypeIdentifierAppleExerciseTime\", \n",
    "    \"HKQuantityTypeIdentifierStepCount\"\n",
    "]\n",
    "\n",
    "ex_data = data[data[\"type\"].isin(types)]\n",
    "df = pd.DataFrame(ex_data)\n",
    "df = df.drop(columns=['end_date', 'source_name'])\n",
    "df.loc[:, 'start_date'] = pd.to_datetime(df['start_date'])\n",
    "df['start_date'] = df['start_date'].dt.date\n",
    "\n",
    "df_final = df.groupby(['start_date', 'type']).agg({\n",
    "    'value':'sum',\n",
    "    'unit':'first'\n",
    "}).reset_index()\n",
    "\n",
    "df_final['type'] = df_final['type'].replace({\n",
    "    \"HKQuantityTypeIdentifierBasalEnergyBurned\": \"basal_energy_burned\",\n",
    "    \"HKQuantityTypeIdentifierActiveEnergyBurned\": \"active_energy_burned\",\n",
    "    \"HKQuantityTypeIdentifierDistanceWalkingRunning\":\"walking_running_distance\",\n",
    "    'HKQuantityTypeIdentifierAppleStandTime':\"stand_time\",\n",
    "    'HKQuantityTypeIdentifierAppleExerciseTime':\"exercise_time\", \n",
    "    'HKQuantityTypeIdentifierStepCount':'step_count'\n",
    "})\n",
    "\n",
    "pivot_df = df_final.pivot_table(index='start_date', columns='type', values='value', fill_value=0)\n",
    "pivot_df = pivot_df.reset_index()\n",
    "\n",
    "X= pivot_df[['active_energy_burned', 'basal_energy_burned', 'exercise_time', 'stand_time', 'walking_running_distance']]\n",
    "y = pivot_df['step_count']\n",
    "\n",
    "X_train, X_test, y_train, y_test = train_test_split(X, y, test_size=0.33, random_state=42)\n",
    "\n",
    "model = LinearRegression()\n",
    "\n",
    "model.fit(X_train, y_train)\n",
    "y_pred_all_features = model.predict(X_test)\n",
    "model_af_mae = mean_absolute_error(y_test, y_pred_all_features)\n",
    "\n",
    "with open(\"step_predict_model.pkl\", \"wb\") as f:\n",
    "    pickle.dump(model, f)"
   ]
  }
 ],
 "metadata": {
  "kernelspec": {
   "display_name": "base",
   "language": "python",
   "name": "python3"
  },
  "language_info": {
   "codemirror_mode": {
    "name": "ipython",
    "version": 3
   },
   "file_extension": ".py",
   "mimetype": "text/x-python",
   "name": "python",
   "nbconvert_exporter": "python",
   "pygments_lexer": "ipython3",
   "version": "3.9.13"
  }
 },
 "nbformat": 4,
 "nbformat_minor": 2
}
